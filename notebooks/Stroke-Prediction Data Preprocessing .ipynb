{
 "cells": [
  {
   "cell_type": "code",
   "execution_count": 3,
   "id": "ae880516",
   "metadata": {},
   "outputs": [
    {
     "ename": "PermissionError",
     "evalue": "[Errno 1] Operation not permitted",
     "output_type": "error",
     "traceback": [
      "\u001b[0;31m---------------------------------------------------------------------------\u001b[0m",
      "\u001b[0;31mPermissionError\u001b[0m                           Traceback (most recent call last)",
      "Cell \u001b[0;32mIn[3], line 2\u001b[0m\n\u001b[1;32m      1\u001b[0m \u001b[38;5;66;03m#Requierd Libaries\u001b[39;00m\n\u001b[0;32m----> 2\u001b[0m \u001b[38;5;28;01mimport\u001b[39;00m \u001b[38;5;21;01mnumpy\u001b[39;00m \u001b[38;5;28;01mas\u001b[39;00m \u001b[38;5;21;01mnp\u001b[39;00m\n\u001b[1;32m      3\u001b[0m \u001b[38;5;28;01mimport\u001b[39;00m \u001b[38;5;21;01mpandas\u001b[39;00m \u001b[38;5;28;01mas\u001b[39;00m \u001b[38;5;21;01mpd\u001b[39;00m\n\u001b[1;32m      4\u001b[0m \u001b[38;5;28;01mimport\u001b[39;00m \u001b[38;5;21;01mmatplotlib\u001b[39;00m\u001b[38;5;21;01m.\u001b[39;00m\u001b[38;5;21;01mpyplot\u001b[39;00m \u001b[38;5;28;01mas\u001b[39;00m \u001b[38;5;21;01mplt\u001b[39;00m\n",
      "File \u001b[0;32m<frozen importlib._bootstrap>:1007\u001b[0m, in \u001b[0;36m_find_and_load\u001b[0;34m(name, import_)\u001b[0m\n",
      "File \u001b[0;32m<frozen importlib._bootstrap>:982\u001b[0m, in \u001b[0;36m_find_and_load_unlocked\u001b[0;34m(name, import_)\u001b[0m\n",
      "File \u001b[0;32m<frozen importlib._bootstrap>:925\u001b[0m, in \u001b[0;36m_find_spec\u001b[0;34m(name, path, target)\u001b[0m\n",
      "File \u001b[0;32m<frozen importlib._bootstrap_external>:1423\u001b[0m, in \u001b[0;36mfind_spec\u001b[0;34m(cls, fullname, path, target)\u001b[0m\n",
      "File \u001b[0;32m<frozen importlib._bootstrap_external>:1392\u001b[0m, in \u001b[0;36m_get_spec\u001b[0;34m(cls, fullname, path, target)\u001b[0m\n",
      "File \u001b[0;32m<frozen importlib._bootstrap_external>:1356\u001b[0m, in \u001b[0;36m_path_importer_cache\u001b[0;34m(cls, path)\u001b[0m\n",
      "\u001b[0;31mPermissionError\u001b[0m: [Errno 1] Operation not permitted"
     ]
    }
   ],
   "source": [
    "#Requierd Libaries\n",
    "import numpy as np\n",
    "import pandas as pd\n",
    "import matplotlib.pyplot as plt\n",
    "import seaborn as sns\n",
    "from sklearn import preprocessing"
   ]
  },
  {
   "cell_type": "markdown",
   "id": "94e13bfe",
   "metadata": {},
   "source": [
    "# Stroke Predciton Data Preprocessing"
   ]
  },
  {
   "cell_type": "code",
   "execution_count": 4,
   "id": "fa826467",
   "metadata": {},
   "outputs": [],
   "source": [
    "#Function used to load csv data given a path \n",
    "def load_data(data_path):\n",
    "    return pd.read_csv(data_path)"
   ]
  },
  {
   "cell_type": "code",
   "execution_count": null,
   "id": "f8a8c2d9",
   "metadata": {},
   "outputs": [],
   "source": [
    "#Loading data and generating a data frame\n",
    "data_path = \"../data/healthcare-dataset-stroke-data.csv\"\n",
    "stroke_data = load_data(data_path)\n",
    "stroke_df = pd.DataFrame(stroke_data)"
   ]
  },
  {
   "cell_type": "code",
   "execution_count": null,
   "id": "e8ba9628",
   "metadata": {},
   "outputs": [],
   "source": [
    "stroke_df"
   ]
  },
  {
   "cell_type": "code",
   "execution_count": null,
   "id": "11656cdc",
   "metadata": {
    "scrolled": true
   },
   "outputs": [],
   "source": [
    "#Generating the Descriptive Statistic\n",
    "stroke_df.describe()"
   ]
  },
  {
   "cell_type": "markdown",
   "id": "6e13b37c",
   "metadata": {},
   "source": [
    " <font size = 3> \n",
    "Observations: <br>\n",
    "  - The average age is 43 years<br>\n",
    "  - The average bmi is close to 29, which is considered unhealthy<br>\n",
    "  - The average glucose level is 106, which is slightly unhealthy <br> \n",
    "  - The average in both hypertension and heart disease is low, meaning the population sample have a healthy hearth<br>\n",
    "  - The 25%, 50%, 75% for hypertension, heart_disease, and stroke is 0. Meaning a most of the <br>\n",
    "    patients in the Data set did not have a heart disease, hypertension or a stroke"
   ]
  },
  {
   "cell_type": "code",
   "execution_count": null,
   "id": "f86c297e",
   "metadata": {},
   "outputs": [],
   "source": [
    "#Ploting stroke frequency for diffrent classes\n",
    "stroke_class_list = ['gender','hypertension', 'heart_disease', \n",
    "                     'ever_married','work_type', \n",
    "                     'Residence_type','smoking_status'] \n",
    "\n",
    "plt.figure(figsize = (20, 15))\n",
    "sns.set_theme(style=\"whitegrid\", palette=\"muted\")\n",
    "\n",
    "for i in enumerate(stroke_class_list):\n",
    "        plt.subplot(3, 3,i[0]+1)\n",
    "        sns.countplot(data =stroke_df, x = i[1], hue = \"stroke\")\n",
    "        plt.xticks(rotation = 10)"
   ]
  },
  {
   "cell_type": "code",
   "execution_count": null,
   "id": "4fcd1673",
   "metadata": {},
   "outputs": [],
   "source": [
    "#Distribution plot age vs stroke\n",
    "sns.set_theme(style=\"whitegrid\", palette=\"bright\")\n",
    "plt.figure(figsize = (20, 15))\n",
    "dis_plt = sns.displot(data = stroke_df, x = \"age\", hue = \"stroke\" )"
   ]
  },
  {
   "cell_type": "markdown",
   "id": "444e686d",
   "metadata": {},
   "source": [
    "<font size = 4>\n",
    "Obesravtions:<br> \n",
    " - Most patience did nor have a stroke<br>\n",
    " - Patience over the age of 40 are more porne to having a stroke<br>\n",
    " - Patience aroung the age of 80 have had the most amount of strokes"
   ]
  },
  {
   "cell_type": "code",
   "execution_count": null,
   "id": "2c0922f7",
   "metadata": {},
   "outputs": [],
   "source": [
    "# Violin plot to understand the patients likelihood of getting a stroke\n",
    "stroke_violin = sns.violinplot(data = stroke_df, x = \"stroke\", y = \"age\")\n",
    "stroke_violin.set_title(\"Stroke vs Age, Violin Plot\")"
   ]
  },
  {
   "cell_type": "markdown",
   "id": "69bcce25",
   "metadata": {},
   "source": [
    "<font size = 4>\n",
    "Obesravtions:<br> \n",
    " - The highest number of strokes is for patience close to the age of 80 years "
   ]
  },
  {
   "cell_type": "code",
   "execution_count": null,
   "id": "560f8296",
   "metadata": {},
   "outputs": [],
   "source": [
    "#count plot to check if dataset is balanced\n",
    "countplot = sns.countplot(data = stroke_df, x = \"stroke\") \n",
    "countplot.set_title(\"Count Stroke vs No Sroke\")"
   ]
  },
  {
   "cell_type": "markdown",
   "id": "6445727b",
   "metadata": {},
   "source": [
    "- <font size = 4>  As we can see from the plot, there is a significant number of target values, of people that did not have a stroke compared to the target values of people with a stroke, this tells us that the dataset is imbalanced."
   ]
  },
  {
   "cell_type": "code",
   "execution_count": null,
   "id": "130a5854",
   "metadata": {},
   "outputs": [],
   "source": [
    "#Generating a heat map to uderstand the correlation among variables\n",
    "labels = [\"gender\",\"age\", \"hypertension\" , \"heart_disease\", \"ever_married\" , \"work_type\", \"Residence_type\", \"avg_glucose_level\", \"bmi\", \"smoking_status\",\"stroke\"]\n",
    "sns.heatmap(data = stroke_df[labels].corr(), annot=True,fmt=\".1f\", vmax = 1, cmap=\"YlGnBu\" ).set_title(\"Stroke Data Correlation\")"
   ]
  },
  {
   "cell_type": "markdown",
   "id": "8be27377",
   "metadata": {},
   "source": [
    "<font size = 4>\n",
    "Obesravtions:<br> \n",
    " - Hypertension, heart disease, bmi, age, average glucose levels have are strongly coreleated."
   ]
  },
  {
   "cell_type": "markdown",
   "id": "312f895d",
   "metadata": {},
   "source": [
    "### Removing Outliers"
   ]
  },
  {
   "cell_type": "code",
   "execution_count": null,
   "id": "deaab4d8",
   "metadata": {},
   "outputs": [],
   "source": [
    "#Function for ploting a box plot given a DF and features\n",
    "def plot_boxplot(df, ft):\n",
    "    df.boxplot(column = ft)\n",
    "    plt.grid(False)\n",
    "    plt.show()"
   ]
  },
  {
   "cell_type": "code",
   "execution_count": null,
   "id": "707d6cd6",
   "metadata": {},
   "outputs": [],
   "source": [
    "#Ploting box plot of bmi and avg_glucose_level to check for outliers\n",
    "features = [\"bmi\",\"avg_glucose_level\"]\n",
    "plot_boxplot(stroke_df, features)"
   ]
  },
  {
   "cell_type": "code",
   "execution_count": null,
   "id": "857a61ee",
   "metadata": {},
   "outputs": [],
   "source": [
    "#Function to check for outliers, and return a list of idecies\n",
    "def outliers(df, ft):\n",
    "    Q1 = df[ft].quantile(0.25)\n",
    "    Q3 = df[ft].quantile(0.75)\n",
    "    IQR = Q3-Q1\n",
    "    lowerBound = Q1 -1.5*IQR\n",
    "    upperBound = Q3 +1.5*IQR\n",
    "    index_list = df.index[(df[ft] < lowerBound) | (df[ft] > upperBound)]\n",
    "    return index_list"
   ]
  },
  {
   "cell_type": "code",
   "execution_count": null,
   "id": "7ad0c5b7",
   "metadata": {},
   "outputs": [],
   "source": [
    "#Storing indecies of outliers\n",
    "index_list = []\n",
    "for ft in [\"bmi\",\"avg_glucose_level\"]:\n",
    "    index_list.extend(outliers(stroke_df, ft))"
   ]
  },
  {
   "cell_type": "code",
   "execution_count": null,
   "id": "f90fb072",
   "metadata": {},
   "outputs": [],
   "source": [
    "#Function to remove outliers given index of outlier\n",
    "def removeOutliers(df, index_list): \n",
    "    #Sorting indeces and making them unique\n",
    "    index_list = sorted(set(index_list))\n",
    "    df = df.drop(index_list)\n",
    "    return df"
   ]
  },
  {
   "cell_type": "code",
   "execution_count": null,
   "id": "fe2013c5",
   "metadata": {},
   "outputs": [],
   "source": [
    "#Removing outliers for bmi and avg_glucose_level, and creating a new df\n",
    "stroke_df_cleaned = removeOutliers(stroke_df, index_list)\n",
    "stroke_df_cleaned.shape"
   ]
  },
  {
   "cell_type": "markdown",
   "id": "ba4036bf",
   "metadata": {},
   "source": [
    "### Handelling Null Values"
   ]
  },
  {
   "cell_type": "code",
   "execution_count": null,
   "id": "f1047f8b",
   "metadata": {},
   "outputs": [],
   "source": [
    "#Checking for null values in the Data set\n",
    "stroke_df_cleaned.isnull().sum()"
   ]
  },
  {
   "cell_type": "code",
   "execution_count": null,
   "id": "88a2108e",
   "metadata": {
    "scrolled": true
   },
   "outputs": [],
   "source": [
    "#Handeling null values for BMI feature, Using Mean imputation\n",
    "bmi_mean = stroke_df_cleaned['bmi'].mean()\n",
    "stroke_df_cleaned['bmi'] = stroke_df_cleaned['bmi'].fillna(bmi_mean)"
   ]
  },
  {
   "cell_type": "code",
   "execution_count": null,
   "id": "c8e8b3e1",
   "metadata": {},
   "outputs": [],
   "source": [
    "#Checking for null values in the Data set\n",
    "stroke_df_cleaned.isnull().sum()"
   ]
  },
  {
   "cell_type": "markdown",
   "id": "67df877f",
   "metadata": {},
   "source": [
    "### Encoding Objects "
   ]
  },
  {
   "cell_type": "code",
   "execution_count": null,
   "id": "d419add9",
   "metadata": {},
   "outputs": [],
   "source": [
    "#Checking Data Types before encoding\n",
    "stroke_df_cleaned.dtypes"
   ]
  },
  {
   "cell_type": "code",
   "execution_count": null,
   "id": "0d9ada33",
   "metadata": {
    "scrolled": true
   },
   "outputs": [],
   "source": [
    "#Encoding all object data, in the data frame\n",
    "obj_columns = [\"gender \",\"ever_married \",\"work_type\",\"Residence_type \",\"smoking_status\"]\n",
    "encoded_stroke_df = pd.get_dummies(stroke_df_cleaned,obj_columns,drop_first=True)\n",
    "encoded_stroke_df.head()"
   ]
  },
  {
   "cell_type": "code",
   "execution_count": null,
   "id": "162d3933",
   "metadata": {},
   "outputs": [],
   "source": [
    "#Checking Data Types after encoding\n",
    "encoded_stroke_df.dtypes"
   ]
  },
  {
   "cell_type": "code",
   "execution_count": null,
   "id": "89329427",
   "metadata": {},
   "outputs": [],
   "source": [
    "#Saving new datset\n",
    "directory_path = \"../data/\"\n",
    "encoded_stroke_df.to_csv(directory_path + \"preprocessed-healthcare-dataset-stroke-data.csv\", index = \"False\")"
   ]
  },
  {
   "cell_type": "code",
   "execution_count": null,
   "id": "54263f2e",
   "metadata": {},
   "outputs": [],
   "source": []
  }
 ],
 "metadata": {
  "kernelspec": {
   "display_name": "Python 3 (ipykernel)",
   "language": "python",
   "name": "python3"
  },
  "language_info": {
   "codemirror_mode": {
    "name": "ipython",
    "version": 3
   },
   "file_extension": ".py",
   "mimetype": "text/x-python",
   "name": "python",
   "nbconvert_exporter": "python",
   "pygments_lexer": "ipython3",
   "version": "3.9.16"
  }
 },
 "nbformat": 4,
 "nbformat_minor": 5
}
